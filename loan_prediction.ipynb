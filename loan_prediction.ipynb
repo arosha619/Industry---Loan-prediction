{
 "cells": [
  {
   "cell_type": "code",
   "execution_count": 17,
   "metadata": {},
   "outputs": [],
   "source": [
    "import warnings, logging\n",
    "warnings.filterwarnings('ignore')\n",
    "logging.getLogger(\"tensorflow\").setLevel(logging.WARNING)\n",
    "\n",
    "import os, pickle\n",
    "import numpy as np \n",
    "import pandas as pd\n",
    "import seaborn as sns\n",
    "import matplotlib.pyplot as plt\n",
    "from sklearn.preprocessing import StandardScaler\n",
    "from sklearn.ensemble import RandomForestClassifier\n",
    "from sklearn.model_selection import train_test_split\n",
    "from sklearn.metrics import confusion_matrix, classification_report"
   ]
  },
  {
   "cell_type": "code",
   "execution_count": 18,
   "metadata": {},
   "outputs": [],
   "source": [
    "def load_dataset(\n",
    "                data_path = 'data/Loan/loan_category_data_set_01.csv',\n",
    "                scalar_path = 'models/Loan/scalar.pkl'\n",
    "                ):\n",
    "    df = pd.read_csv(data_path)\n",
    "    df = df.dropna()\n",
    "\n",
    "    X = df.drop(columns=['Loan Category']).values\n",
    "    Y = df['Loan Category'].values\n",
    "\n",
    "    Xtrain, Xtest, Ytrain, Ytest = train_test_split(\n",
    "                                                    X, Y, \n",
    "                                                    test_size=0.15, \n",
    "                                                    random_state=42\n",
    "                                                    )\n",
    "    \n",
    "    scalar = StandardScaler()\n",
    "    scalar.fit(Xtrain)\n",
    "\n",
    "    with open(scalar_path, 'wb') as f:\n",
    "        pickle.dump(scalar, f)\n",
    "\n",
    "    Xtrain = scalar.transform(Xtrain)\n",
    "    Xtest = scalar.transform(Xtest)\n",
    "\n",
    "    return Xtrain, Xtest, Ytrain, Ytest"
   ]
  },
  {
   "cell_type": "code",
   "execution_count": 19,
   "metadata": {},
   "outputs": [
    {
     "name": "stdout",
     "output_type": "stream",
     "text": [
      "Xtrain shape: (850, 13)\n",
      "Xtest shape: (150, 13)\n",
      "Ytrain shape: (850,)\n",
      "Ytest shape: (150,)\n"
     ]
    }
   ],
   "source": [
    "Xtrain, Xtest, Ytrain, Ytest = load_dataset()\n",
    "\n",
    "print('Xtrain shape:', Xtrain.shape)\n",
    "print('Xtest shape:', Xtest.shape)\n",
    "print('Ytrain shape:', Ytrain.shape)\n",
    "print('Ytest shape:', Ytest.shape)"
   ]
  },
  {
   "cell_type": "markdown",
   "metadata": {},
   "source": [
    "### Training"
   ]
  },
  {
   "cell_type": "code",
   "execution_count": 20,
   "metadata": {},
   "outputs": [],
   "source": [
    "model = RandomForestClassifier(n_estimators=100, random_state=42)\n",
    "model.fit(Xtrain, Ytrain)\n",
    "\n",
    "with open('models/Loan/model.pkl', 'wb') as f:\n",
    "    pickle.dump(model, f)"
   ]
  },
  {
   "cell_type": "code",
   "execution_count": 21,
   "metadata": {},
   "outputs": [],
   "source": [
    "Ptest = model.predict(Xtest)\n",
    "Ptrain = model.predict(Xtrain)"
   ]
  },
  {
   "cell_type": "markdown",
   "metadata": {},
   "source": [
    "### Evaluation"
   ]
  },
  {
   "cell_type": "code",
   "execution_count": 22,
   "metadata": {},
   "outputs": [
    {
     "name": "stdout",
     "output_type": "stream",
     "text": [
      "######################### Classification Report - Train #########################\n",
      "              precision    recall  f1-score   support\n",
      "\n",
      "           0       1.00      1.00      1.00       173\n",
      "           1       1.00      1.00      1.00       166\n",
      "           2       1.00      1.00      1.00       171\n",
      "           3       1.00      1.00      1.00       174\n",
      "           4       1.00      1.00      1.00       166\n",
      "\n",
      "    accuracy                           1.00       850\n",
      "   macro avg       1.00      1.00      1.00       850\n",
      "weighted avg       1.00      1.00      1.00       850\n",
      "\n",
      "########################## Classification Report - Test #########################\n",
      "              precision    recall  f1-score   support\n",
      "\n",
      "           0       1.00      1.00      1.00        27\n",
      "           1       1.00      1.00      1.00        34\n",
      "           2       1.00      1.00      1.00        29\n",
      "           3       1.00      1.00      1.00        26\n",
      "           4       1.00      1.00      1.00        34\n",
      "\n",
      "    accuracy                           1.00       150\n",
      "   macro avg       1.00      1.00      1.00       150\n",
      "weighted avg       1.00      1.00      1.00       150\n",
      "\n"
     ]
    }
   ],
   "source": [
    "print(\"######################### Classification Report - Train #########################\")\n",
    "print(classification_report(\n",
    "                            Ytrain, \n",
    "                            Ptrain\n",
    "                            ))\n",
    "\n",
    "print(\"########################## Classification Report - Test #########################\")\n",
    "print(classification_report(\n",
    "                            Ytest, \n",
    "                            Ptest\n",
    "                            ))"
   ]
  },
  {
   "cell_type": "code",
   "execution_count": 23,
   "metadata": {},
   "outputs": [
    {
     "name": "stdout",
     "output_type": "stream",
     "text": [
      "########################## Confusion Matrix - Train #########################\n"
     ]
    },
    {
     "data": {
      "image/png": "[encoded data removed]",
      "text/plain": [
       "<Figure size 1500x700 with 2 Axes>"
      ]
     },
     "metadata": {},
     "output_type": "display_data"
    }
   ],
   "source": [
    "print(\"########################## Confusion Matrix - Train #########################\")  \n",
    "\n",
    "plt.figure(figsize=(15, 7))\n",
    "\n",
    "plt.subplot(1, 2, 1)\n",
    "cm = confusion_matrix(Ytrain, Ptrain)\n",
    "sns.heatmap(cm, annot=True, fmt='d', cmap='Blues', cbar=False)\n",
    "plt.title('Train CM')\n",
    "\n",
    "plt.subplot(1, 2, 2)\n",
    "cm = confusion_matrix(Ytest, Ptest)\n",
    "sns.heatmap(cm, annot=True, fmt='d', cmap='Blues', cbar=False)\n",
    "plt.title('Test CM')\n",
    "\n",
    "plt.show()"
   ]
  },
  {
   "cell_type": "markdown",
   "metadata": {},
   "source": [
    "### Inference"
   ]
  },
  {
   "cell_type": "code",
   "execution_count": 24,
   "metadata": {},
   "outputs": [],
   "source": [
    "import os, pickle\n",
    "import numpy as np"
   ]
  },
  {
   "cell_type": "code",
   "execution_count": 25,
   "metadata": {},
   "outputs": [],
   "source": [
    "with open('models/Loan/model.pkl', 'rb') as f:\n",
    "    model = pickle.load(f)\n",
    "\n",
    "with open('models/Loan/scalar.pkl', 'rb') as f:\n",
    "    scalar = pickle.load(f)"
   ]
  },
  {
   "cell_type": "code",
   "execution_count": 32,
   "metadata": {},
   "outputs": [],
   "source": [
    "sample_json = {\n",
    "                \"Change Open Price (%)\":-7.36,\n",
    "                \"Change Close Price (%)\":-9.52,\n",
    "                \"Change Trade Volume (%)\":-18.1,\n",
    "                \"Change Turnover (%)\":-16.11,\n",
    "                \"Revenue\":11.98,\n",
    "                \"Net Profit\":-38.74,\n",
    "                \"Gross Profit\":25.4,\n",
    "                \"Total Assets\":4.67,\n",
    "                \"Total Liabilities\":87.11,\n",
    "                \"Equity\":30.21,\n",
    "                \"Export Change\":24.7,\n",
    "                \"Import Change\":17.70,\n",
    "                \"Sentiment Score\":0.12\n",
    "                }"
   ]
  },
  {
   "cell_type": "code",
   "execution_count": 33,
   "metadata": {},
   "outputs": [],
   "source": [
    "\n",
    "import json\n",
    "\n",
    "def make_response(prediction):\n",
    "    with open('data/Loan/loan_features.json', 'r') as f:\n",
    "        label2loan = json.load(f)\n",
    "\n",
    "    loan = label2loan[str(prediction)]\n",
    "    return loan \n",
    "    \n",
    "def inference_loan(sample_json):\n",
    "    sample = np.array([list(sample_json.values())])\n",
    "    sample = scalar.transform(sample)\n",
    "    prediction = int(model.predict(sample)[0])\n",
    "    prediction = make_response(prediction)\n",
    "    return prediction"
   ]
  },
  {
   "cell_type": "code",
   "execution_count": 34,
   "metadata": {},
   "outputs": [
    {
     "data": {
      "text/plain": [
       "{'loan_category': 'Higher Risk',\n",
       " 'loan_features': {'loan_amount': 'Lower Loan Amounts: Smaller loan amounts due to higher risk.',\n",
       "  'interest_rates': 'Higher Interest Rates: Increased rates to compensate for higher risk.',\n",
       "  'repayment_periods': 'Shorter Repayment Periods: Quick recovery of funds to minimize exposure.',\n",
       "  'collateral_requirement': 'Collateral Requirement: Collateral required to secure the loan.',\n",
       "  'repayment_terms': 'Flexible Repayment Terms: Options to adjust payments based on financial situation.',\n",
       "  'credit_monitoring': 'Credit Monitoring: Regular monitoring to ensure timely payments.',\n",
       "  'financial_counseling': 'Financial Counseling: Access to advisory services to improve financial health.'}}"
      ]
     },
     "execution_count": 34,
     "metadata": {},
     "output_type": "execute_result"
    }
   ],
   "source": [
    "inference_loan(sample_json)"
   ]
  }
 ],
 "metadata": {
  "kernelspec": {
   "display_name": "cv",
   "language": "python",
   "name": "python3"
  },
  "language_info": {
   "codemirror_mode": {
    "name": "ipython",
    "version": 3
   },
   "file_extension": ".py",
   "mimetype": "text/x-python",
   "name": "python",
   "nbconvert_exporter": "python",
   "pygments_lexer": "ipython3",
   "version": "3.10.14"
  }
 },
 "nbformat": 4,
 "nbformat_minor": 2
}
