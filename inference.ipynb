{
 "cells": [
  {
   "cell_type": "code",
   "execution_count": 1,
   "metadata": {},
   "outputs": [],
   "source": [
    "import os, pickle\n",
    "import numpy as np \n",
    "import pandas as pd\n",
    "import warnings, logging\n",
    "from transformers import pipeline\n",
    "from datasets import load_dataset\n",
    "warnings.filterwarnings('ignore')\n",
    "os.environ['TF_CPP_MIN_LOG_LEVEL'] = '3'\n",
    "from sklearn.preprocessing import StandardScaler\n",
    "logging.getLogger(\"tensorflow\").setLevel(logging.WARNING)\n",
    "\n",
    "\n",
    "import tensorflow as tf\n",
    "tf.get_logger().setLevel('ERROR')"
   ]
  },
  {
   "cell_type": "code",
   "execution_count": 2,
   "metadata": {},
   "outputs": [
    {
     "name": "stdout",
     "output_type": "stream",
     "text": [
      "Tensorflow version: 2.17.0\n",
      "Keras version: 3.4.1\n"
     ]
    }
   ],
   "source": [
    "print('Tensorflow version:', tf.__version__)\n",
    "print(\"Keras version:\", tf.keras.__version__)"
   ]
  },
  {
   "cell_type": "markdown",
   "metadata": {},
   "source": [
    "### Load News Model"
   ]
  },
  {
   "cell_type": "code",
   "execution_count": 3,
   "metadata": {},
   "outputs": [],
   "source": [
    "dataset_news = load_dataset(\"dilkasithari-IT/news_data\")\n",
    "all_industries_news = list(set(dataset_news['train']['industry']))\n",
    "\n",
    "pipe_news = pipeline(\n",
    "                    \"text-classification\", \n",
    "                    model=\"dilkasithari-IT/fine-tuned-twitter-roberta-base-sentiment-latest\",\n",
    "                    device=0\n",
    "                    )"
   ]
  },
  {
   "cell_type": "markdown",
   "metadata": {},
   "source": [
    "### Load Imp / Exp Model"
   ]
  },
  {
   "cell_type": "code",
   "execution_count": 4,
   "metadata": {},
   "outputs": [
    {
     "name": "stderr",
     "output_type": "stream",
     "text": [
      "WARNING:absl:Compiled the loaded model, but the compiled metrics have yet to be built. `model.compile_metrics` will be empty until you train or evaluate the model.\n",
      "WARNING:absl:Compiled the loaded model, but the compiled metrics have yet to be built. `model.compile_metrics` will be empty until you train or evaluate the model.\n",
      "WARNING:absl:Compiled the loaded model, but the compiled metrics have yet to be built. `model.compile_metrics` will be empty until you train or evaluate the model.\n",
      "WARNING:absl:Compiled the loaded model, but the compiled metrics have yet to be built. `model.compile_metrics` will be empty until you train or evaluate the model.\n",
      "WARNING:absl:Compiled the loaded model, but the compiled metrics have yet to be built. `model.compile_metrics` will be empty until you train or evaluate the model.\n",
      "WARNING:absl:Compiled the loaded model, but the compiled metrics have yet to be built. `model.compile_metrics` will be empty until you train or evaluate the model.\n",
      "WARNING:absl:Compiled the loaded model, but the compiled metrics have yet to be built. `model.compile_metrics` will be empty until you train or evaluate the model.\n",
      "WARNING:absl:Compiled the loaded model, but the compiled metrics have yet to be built. `model.compile_metrics` will be empty until you train or evaluate the model.\n",
      "WARNING:absl:Compiled the loaded model, but the compiled metrics have yet to be built. `model.compile_metrics` will be empty until you train or evaluate the model.\n",
      "WARNING:absl:Compiled the loaded model, but the compiled metrics have yet to be built. `model.compile_metrics` will be empty until you train or evaluate the model.\n"
     ]
    }
   ],
   "source": [
    "industries = [\n",
    "            'Agricultural Raw Materials',\n",
    "            'Consumer Goods',\n",
    "            'Transportation',\n",
    "            'Food Industry',\n",
    "            'Capital Goods'\n",
    "            ]\n",
    "\n",
    "model_dir = \"models/ImpExp/{}\"\n",
    "data_dir = \"data/ImpExp/{}\"\n",
    "\n",
    "model_dict_impexp = {}\n",
    "\n",
    "for industry in industries:\n",
    "    industry_dict = {}\n",
    "    industry_dict['Imp Model'] = tf.keras.models.load_model(\n",
    "                                                            model_dir.format(f\"{industry} Imp.h5\"),\n",
    "                                                            custom_objects={'mse': 'mse'}\n",
    "                                                            )\n",
    "    industry_dict['Exp Model'] = tf.keras.models.load_model(\n",
    "                                                            model_dir.format(f\"{industry} Exp.h5\"),\n",
    "                                                            custom_objects={'mse': 'mse'}\n",
    "                                                            )\n",
    "    industry_dict['Scaler'] = pickle.load(open(model_dir.format(f\"{industry} Scalar.pickle\"), 'rb'))\n",
    "\n",
    "    model_dict_impexp[industry] = industry_dict"
   ]
  },
  {
   "cell_type": "markdown",
   "metadata": {},
   "source": [
    "### Stocks Model"
   ]
  },
  {
   "cell_type": "code",
   "execution_count": 5,
   "metadata": {},
   "outputs": [
    {
     "name": "stderr",
     "output_type": "stream",
     "text": [
      "WARNING:absl:Compiled the loaded model, but the compiled metrics have yet to be built. `model.compile_metrics` will be empty until you train or evaluate the model.\n",
      "WARNING:absl:Compiled the loaded model, but the compiled metrics have yet to be built. `model.compile_metrics` will be empty until you train or evaluate the model.\n",
      "WARNING:absl:Compiled the loaded model, but the compiled metrics have yet to be built. `model.compile_metrics` will be empty until you train or evaluate the model.\n",
      "WARNING:absl:Compiled the loaded model, but the compiled metrics have yet to be built. `model.compile_metrics` will be empty until you train or evaluate the model.\n",
      "WARNING:absl:Compiled the loaded model, but the compiled metrics have yet to be built. `model.compile_metrics` will be empty until you train or evaluate the model.\n",
      "WARNING:absl:Compiled the loaded model, but the compiled metrics have yet to be built. `model.compile_metrics` will be empty until you train or evaluate the model.\n",
      "WARNING:absl:Compiled the loaded model, but the compiled metrics have yet to be built. `model.compile_metrics` will be empty until you train or evaluate the model.\n",
      "WARNING:absl:Compiled the loaded model, but the compiled metrics have yet to be built. `model.compile_metrics` will be empty until you train or evaluate the model.\n",
      "WARNING:absl:Compiled the loaded model, but the compiled metrics have yet to be built. `model.compile_metrics` will be empty until you train or evaluate the model.\n",
      "WARNING:absl:Compiled the loaded model, but the compiled metrics have yet to be built. `model.compile_metrics` will be empty until you train or evaluate the model.\n",
      "WARNING:absl:Compiled the loaded model, but the compiled metrics have yet to be built. `model.compile_metrics` will be empty until you train or evaluate the model.\n",
      "WARNING:absl:Compiled the loaded model, but the compiled metrics have yet to be built. `model.compile_metrics` will be empty until you train or evaluate the model.\n",
      "WARNING:absl:Compiled the loaded model, but the compiled metrics have yet to be built. `model.compile_metrics` will be empty until you train or evaluate the model.\n",
      "WARNING:absl:Compiled the loaded model, but the compiled metrics have yet to be built. `model.compile_metrics` will be empty until you train or evaluate the model.\n",
      "WARNING:absl:Compiled the loaded model, but the compiled metrics have yet to be built. `model.compile_metrics` will be empty until you train or evaluate the model.\n",
      "WARNING:absl:Compiled the loaded model, but the compiled metrics have yet to be built. `model.compile_metrics` will be empty until you train or evaluate the model.\n",
      "WARNING:absl:Compiled the loaded model, but the compiled metrics have yet to be built. `model.compile_metrics` will be empty until you train or evaluate the model.\n",
      "WARNING:absl:Compiled the loaded model, but the compiled metrics have yet to be built. `model.compile_metrics` will be empty until you train or evaluate the model.\n",
      "WARNING:absl:Compiled the loaded model, but the compiled metrics have yet to be built. `model.compile_metrics` will be empty until you train or evaluate the model.\n",
      "WARNING:absl:Compiled the loaded model, but the compiled metrics have yet to be built. `model.compile_metrics` will be empty until you train or evaluate the model.\n",
      "WARNING:absl:Compiled the loaded model, but the compiled metrics have yet to be built. `model.compile_metrics` will be empty until you train or evaluate the model.\n",
      "WARNING:absl:Compiled the loaded model, but the compiled metrics have yet to be built. `model.compile_metrics` will be empty until you train or evaluate the model.\n",
      "WARNING:absl:Compiled the loaded model, but the compiled metrics have yet to be built. `model.compile_metrics` will be empty until you train or evaluate the model.\n",
      "WARNING:absl:Compiled the loaded model, but the compiled metrics have yet to be built. `model.compile_metrics` will be empty until you train or evaluate the model.\n",
      "WARNING:absl:Compiled the loaded model, but the compiled metrics have yet to be built. `model.compile_metrics` will be empty until you train or evaluate the model.\n",
      "WARNING:absl:Compiled the loaded model, but the compiled metrics have yet to be built. `model.compile_metrics` will be empty until you train or evaluate the model.\n",
      "WARNING:absl:Compiled the loaded model, but the compiled metrics have yet to be built. `model.compile_metrics` will be empty until you train or evaluate the model.\n",
      "WARNING:absl:Compiled the loaded model, but the compiled metrics have yet to be built. `model.compile_metrics` will be empty until you train or evaluate the model.\n",
      "WARNING:absl:Compiled the loaded model, but the compiled metrics have yet to be built. `model.compile_metrics` will be empty until you train or evaluate the model.\n",
      "WARNING:absl:Compiled the loaded model, but the compiled metrics have yet to be built. `model.compile_metrics` will be empty until you train or evaluate the model.\n",
      "WARNING:absl:Compiled the loaded model, but the compiled metrics have yet to be built. `model.compile_metrics` will be empty until you train or evaluate the model.\n",
      "WARNING:absl:Compiled the loaded model, but the compiled metrics have yet to be built. `model.compile_metrics` will be empty until you train or evaluate the model.\n",
      "WARNING:absl:Compiled the loaded model, but the compiled metrics have yet to be built. `model.compile_metrics` will be empty until you train or evaluate the model.\n",
      "WARNING:absl:Compiled the loaded model, but the compiled metrics have yet to be built. `model.compile_metrics` will be empty until you train or evaluate the model.\n",
      "WARNING:absl:Compiled the loaded model, but the compiled metrics have yet to be built. `model.compile_metrics` will be empty until you train or evaluate the model.\n",
      "WARNING:absl:Compiled the loaded model, but the compiled metrics have yet to be built. `model.compile_metrics` will be empty until you train or evaluate the model.\n",
      "WARNING:absl:Compiled the loaded model, but the compiled metrics have yet to be built. `model.compile_metrics` will be empty until you train or evaluate the model.\n",
      "WARNING:absl:Compiled the loaded model, but the compiled metrics have yet to be built. `model.compile_metrics` will be empty until you train or evaluate the model.\n",
      "WARNING:absl:Compiled the loaded model, but the compiled metrics have yet to be built. `model.compile_metrics` will be empty until you train or evaluate the model.\n",
      "WARNING:absl:Compiled the loaded model, but the compiled metrics have yet to be built. `model.compile_metrics` will be empty until you train or evaluate the model.\n",
      "WARNING:absl:Compiled the loaded model, but the compiled metrics have yet to be built. `model.compile_metrics` will be empty until you train or evaluate the model.\n",
      "WARNING:absl:Compiled the loaded model, but the compiled metrics have yet to be built. `model.compile_metrics` will be empty until you train or evaluate the model.\n",
      "WARNING:absl:Compiled the loaded model, but the compiled metrics have yet to be built. `model.compile_metrics` will be empty until you train or evaluate the model.\n",
      "WARNING:absl:Compiled the loaded model, but the compiled metrics have yet to be built. `model.compile_metrics` will be empty until you train or evaluate the model.\n",
      "WARNING:absl:Compiled the loaded model, but the compiled metrics have yet to be built. `model.compile_metrics` will be empty until you train or evaluate the model.\n",
      "WARNING:absl:Compiled the loaded model, but the compiled metrics have yet to be built. `model.compile_metrics` will be empty until you train or evaluate the model.\n",
      "WARNING:absl:Compiled the loaded model, but the compiled metrics have yet to be built. `model.compile_metrics` will be empty until you train or evaluate the model.\n",
      "WARNING:absl:Compiled the loaded model, but the compiled metrics have yet to be built. `model.compile_metrics` will be empty until you train or evaluate the model.\n",
      "WARNING:absl:Compiled the loaded model, but the compiled metrics have yet to be built. `model.compile_metrics` will be empty until you train or evaluate the model.\n",
      "WARNING:absl:Compiled the loaded model, but the compiled metrics have yet to be built. `model.compile_metrics` will be empty until you train or evaluate the model.\n",
      "WARNING:absl:Compiled the loaded model, but the compiled metrics have yet to be built. `model.compile_metrics` will be empty until you train or evaluate the model.\n",
      "WARNING:absl:Compiled the loaded model, but the compiled metrics have yet to be built. `model.compile_metrics` will be empty until you train or evaluate the model.\n",
      "WARNING:absl:Compiled the loaded model, but the compiled metrics have yet to be built. `model.compile_metrics` will be empty until you train or evaluate the model.\n",
      "WARNING:absl:Compiled the loaded model, but the compiled metrics have yet to be built. `model.compile_metrics` will be empty until you train or evaluate the model.\n",
      "WARNING:absl:Compiled the loaded model, but the compiled metrics have yet to be built. `model.compile_metrics` will be empty until you train or evaluate the model.\n",
      "WARNING:absl:Compiled the loaded model, but the compiled metrics have yet to be built. `model.compile_metrics` will be empty until you train or evaluate the model.\n",
      "WARNING:absl:Compiled the loaded model, but the compiled metrics have yet to be built. `model.compile_metrics` will be empty until you train or evaluate the model.\n",
      "WARNING:absl:Compiled the loaded model, but the compiled metrics have yet to be built. `model.compile_metrics` will be empty until you train or evaluate the model.\n",
      "WARNING:absl:Compiled the loaded model, but the compiled metrics have yet to be built. `model.compile_metrics` will be empty until you train or evaluate the model.\n",
      "WARNING:absl:Compiled the loaded model, but the compiled metrics have yet to be built. `model.compile_metrics` will be empty until you train or evaluate the model.\n",
      "WARNING:absl:Compiled the loaded model, but the compiled metrics have yet to be built. `model.compile_metrics` will be empty until you train or evaluate the model.\n",
      "WARNING:absl:Compiled the loaded model, but the compiled metrics have yet to be built. `model.compile_metrics` will be empty until you train or evaluate the model.\n",
      "WARNING:absl:Compiled the loaded model, but the compiled metrics have yet to be built. `model.compile_metrics` will be empty until you train or evaluate the model.\n",
      "WARNING:absl:Compiled the loaded model, but the compiled metrics have yet to be built. `model.compile_metrics` will be empty until you train or evaluate the model.\n",
      "WARNING:absl:Compiled the loaded model, but the compiled metrics have yet to be built. `model.compile_metrics` will be empty until you train or evaluate the model.\n",
      "WARNING:absl:Compiled the loaded model, but the compiled metrics have yet to be built. `model.compile_metrics` will be empty until you train or evaluate the model.\n",
      "WARNING:absl:Compiled the loaded model, but the compiled metrics have yet to be built. `model.compile_metrics` will be empty until you train or evaluate the model.\n",
      "WARNING:absl:Compiled the loaded model, but the compiled metrics have yet to be built. `model.compile_metrics` will be empty until you train or evaluate the model.\n",
      "WARNING:absl:Compiled the loaded model, but the compiled metrics have yet to be built. `model.compile_metrics` will be empty until you train or evaluate the model.\n",
      "WARNING:absl:Compiled the loaded model, but the compiled metrics have yet to be built. `model.compile_metrics` will be empty until you train or evaluate the model.\n",
      "WARNING:absl:Compiled the loaded model, but the compiled metrics have yet to be built. `model.compile_metrics` will be empty until you train or evaluate the model.\n",
      "WARNING:absl:Compiled the loaded model, but the compiled metrics have yet to be built. `model.compile_metrics` will be empty until you train or evaluate the model.\n",
      "WARNING:absl:Compiled the loaded model, but the compiled metrics have yet to be built. `model.compile_metrics` will be empty until you train or evaluate the model.\n",
      "WARNING:absl:Compiled the loaded model, but the compiled metrics have yet to be built. `model.compile_metrics` will be empty until you train or evaluate the model.\n",
      "WARNING:absl:Compiled the loaded model, but the compiled metrics have yet to be built. `model.compile_metrics` will be empty until you train or evaluate the model.\n",
      "WARNING:absl:Compiled the loaded model, but the compiled metrics have yet to be built. `model.compile_metrics` will be empty until you train or evaluate the model.\n",
      "WARNING:absl:Compiled the loaded model, but the compiled metrics have yet to be built. `model.compile_metrics` will be empty until you train or evaluate the model.\n",
      "WARNING:absl:Compiled the loaded model, but the compiled metrics have yet to be built. `model.compile_metrics` will be empty until you train or evaluate the model.\n",
      "WARNING:absl:Compiled the loaded model, but the compiled metrics have yet to be built. `model.compile_metrics` will be empty until you train or evaluate the model.\n",
      "WARNING:absl:Compiled the loaded model, but the compiled metrics have yet to be built. `model.compile_metrics` will be empty until you train or evaluate the model.\n",
      "WARNING:absl:Compiled the loaded model, but the compiled metrics have yet to be built. `model.compile_metrics` will be empty until you train or evaluate the model.\n",
      "WARNING:absl:Compiled the loaded model, but the compiled metrics have yet to be built. `model.compile_metrics` will be empty until you train or evaluate the model.\n",
      "WARNING:absl:Compiled the loaded model, but the compiled metrics have yet to be built. `model.compile_metrics` will be empty until you train or evaluate the model.\n",
      "WARNING:absl:Compiled the loaded model, but the compiled metrics have yet to be built. `model.compile_metrics` will be empty until you train or evaluate the model.\n"
     ]
    }
   ],
   "source": [
    "def load_scalars_stocks(scalar_path):\n",
    "    with open(scalar_path, 'rb') as f:\n",
    "        scaler_x, scaler_y = pickle.load(f)\n",
    "    return scaler_x, scaler_y\n",
    "\n",
    "def get_company_list_stocks(data_dir : str = 'data/Stocks/csvs/'):\n",
    "    company_list = []\n",
    "    for csv_file in os.listdir(data_dir):\n",
    "        company_list.append(csv_file.replace('.N0000.csv', '').replace('.X0000.csv', ''))\n",
    "    return company_list\n",
    "\n",
    "def load_ts_models_scalars_stocks(\n",
    "                                model_dir : str = 'models/Stocks/',\n",
    "                                scalar_dir : str = 'models/Stocks/'\n",
    "                                ):\n",
    "    company_list = get_company_list_stocks()\n",
    "    model_dict, scalar_dict = {}, {}\n",
    "\n",
    "    for company in company_list:\n",
    "        model_path = os.path.join(model_dir, f'{company}.N0000.h5')\n",
    "        model_path = model_path.replace('\\\\', '/')\n",
    "\n",
    "        if not os.path.exists(model_path):\n",
    "            model_path = model_path.replace('N0000', 'X0000')\n",
    "\n",
    "        model = tf.keras.models.load_model(\n",
    "                                            model_path, \n",
    "                                            custom_objects={\n",
    "                                                            'mse': 'mse',\n",
    "                                                            'mae': 'mae'\n",
    "                                                            }\n",
    "                                            )\n",
    "        model.compile(\n",
    "                    loss='mean_squared_error',\n",
    "                    optimizer='adam', \n",
    "                    metrics=['mae','mae','mae','mae']\n",
    "                    )\n",
    "        model.compiled_metrics == None\n",
    "        \n",
    "        model_dict[company] = model\n",
    "\n",
    "        scalar_path = os.path.join(scalar_dir, f'{company}.N0000.pkl')\n",
    "        scalar_path = scalar_path.replace('\\\\', '/')\n",
    "\n",
    "        if not os.path.exists(scalar_path):\n",
    "            scalar_path = scalar_path.replace('N0000', 'X0000')\n",
    "\n",
    "        scalar = load_scalars_stocks(scalar_path)\n",
    "        scalar_dict[company] = scalar\n",
    "\n",
    "    return model_dict, scalar_dict\n",
    "\n",
    "model_dict_stocks, scalar_dict_stocks = load_ts_models_scalars_stocks()"
   ]
  },
  {
   "cell_type": "markdown",
   "metadata": {},
   "source": [
    "### Annual Reports"
   ]
  },
  {
   "cell_type": "code",
   "execution_count": 6,
   "metadata": {},
   "outputs": [
    {
     "name": "stderr",
     "output_type": "stream",
     "text": [
      "WARNING:absl:Compiled the loaded model, but the compiled metrics have yet to be built. `model.compile_metrics` will be empty until you train or evaluate the model.\n"
     ]
    }
   ],
   "source": [
    "model_annual = tf.keras.models.load_model(\n",
    "                                        \"models/Annual/annual_report_model.h5\",\n",
    "                                        custom_objects={'mse': 'mse'}\n",
    "                                        )\n",
    "model_annual.compile(\n",
    "                    optimizer='adam', \n",
    "                    loss='mse'\n",
    "                    )"
   ]
  },
  {
   "cell_type": "markdown",
   "metadata": {},
   "source": [
    "### Loan Model"
   ]
  },
  {
   "cell_type": "code",
   "execution_count": 7,
   "metadata": {},
   "outputs": [],
   "source": [
    "with open('models/Loan/model.pkl', 'rb') as f:\n",
    "    model_loan = pickle.load(f)\n",
    "\n",
    "with open('models/Loan/scalar.pkl', 'rb') as f:\n",
    "    scalar_loan = pickle.load(f)"
   ]
  },
  {
   "cell_type": "markdown",
   "metadata": {},
   "source": [
    "### Utility Functions"
   ]
  },
  {
   "cell_type": "code",
   "execution_count": 8,
   "metadata": {},
   "outputs": [],
   "source": [
    "def get_industries_news(specific_industry):\n",
    "    filtered_dataset = dataset_news.filter(lambda example: example['industry'] == specific_industry)\n",
    "    filtered_dataset = filtered_dataset.rename_column('combined_text', 'text')\n",
    "    return filtered_dataset\n",
    "\n",
    "def inference_news(specific_industry):\n",
    "    if specific_industry == 'Consumer Goods':\n",
    "        specific_industry = 'Consumer Goods Industry'\n",
    "    elif specific_industry == 'Food Industry':\n",
    "        specific_industry = 'Food Products'\n",
    "        \n",
    "    assert specific_industry in all_industries_news, f\"Industry {specific_industry} not found in the dataset\"\n",
    "    filtered_dataset = get_industries_news(specific_industry)\n",
    "    result = pipe_news(\n",
    "                    inputs=filtered_dataset['train']['text'],\n",
    "                    batch_size=50\n",
    "                    )\n",
    "    positive_scores = [item['score'] for item in result if item['label'] == 'positive']\n",
    "    positive_score_percentage = len(positive_scores) / len(result)\n",
    "    return {\n",
    "            \"Sentiment Score\" : positive_score_percentage\n",
    "            }"
   ]
  },
  {
   "cell_type": "code",
   "execution_count": 9,
   "metadata": {},
   "outputs": [],
   "source": [
    "def load_industry_data(industry):\n",
    "    all_csvs = os.listdir(data_dir.format(industry))\n",
    "    all_csvs = [f for f in all_csvs if f.endswith(\".xlsx\")]\n",
    "    all_csv_paths = [data_dir.format(industry) + \"/\" + f for f in all_csvs] \n",
    "    \n",
    "    all_data = []\n",
    "    for csv in all_csv_paths:\n",
    "        df = pd.read_excel(\n",
    "                            csv,\n",
    "                            sheet_name='Partner'\n",
    "                            )\n",
    "        df['Partner Name'] = df['Partner Name'].str.strip()\n",
    "        df = df[df['Partner Name'] == 'World']\n",
    "        assert len(df) == 1, \"More than one world data found\"\n",
    "\n",
    "        df = df[[\n",
    "                'Year',\n",
    "                'Export (US$ Thousand)',\n",
    "                'Import (US$ Thousand)',\n",
    "                'Revealed comparative advantage', \n",
    "                'World Growth (%)', 'Country Growth (%)', \n",
    "                'AHS Simple Average (%)', 'AHS Dutiable Tariff Lines Share (%)',\n",
    "                    ]]\n",
    "        df.reset_index(\n",
    "                    drop=True, \n",
    "                    inplace=True\n",
    "                    )\n",
    "        all_data.append(df)\n",
    "\n",
    "    all_data = pd.concat(all_data)\n",
    "    all_data.reset_index(\n",
    "                        drop=True, \n",
    "                        inplace=True\n",
    "                        )\n",
    "    \n",
    "    all_data.fillna(\n",
    "                    all_data.mean(), \n",
    "                    inplace=True\n",
    "                    )\n",
    "    all_data = all_data.astype(float)\n",
    "    all_data.sort_values(\n",
    "                        by='Year', \n",
    "                        inplace=True\n",
    "                        )\n",
    "    del all_data['Year']\n",
    "\n",
    "    scaler = StandardScaler()\n",
    "    scaler.fit(all_data)\n",
    "    \n",
    "    with open(model_dir.format(f\"{industry} Scalar.pickle\"), 'wb') as f:\n",
    "        pickle.dump(scaler, f)\n",
    "        \n",
    "    all_data = pd.DataFrame(\n",
    "                            scaler.transform(all_data), \n",
    "                            columns=all_data.columns\n",
    "                            )\n",
    "    return all_data\n",
    "\n",
    "def predict_ts_on_industry_impexp(\n",
    "                                industry, \n",
    "                                selective_window=7\n",
    "                                ):\n",
    "    industry_dict = model_dict_impexp[industry]\n",
    "    scaler = industry_dict['Scaler']\n",
    "    imp_model = industry_dict['Imp Model']\n",
    "    exp_model = industry_dict['Exp Model']\n",
    "\n",
    "    df = load_industry_data(industry)\n",
    "    df_tail = df.tail(selective_window)\n",
    "    \n",
    "    x = df_tail.values\n",
    "    x = x.reshape(1, x.shape[0], x.shape[1])\n",
    "\n",
    "    p_imp = imp_model.predict(x).squeeze()\n",
    "    p_imp = np.vstack([p_imp]*selective_window).squeeze()\n",
    "    p_imp = np.dstack([p_imp]*selective_window).squeeze()\n",
    "    p_imp = scaler.inverse_transform(p_imp) \n",
    "    p_imp = p_imp[0][0]\n",
    "\n",
    "    p_exp = exp_model.predict(x).squeeze()\n",
    "    p_exp = np.vstack([p_exp]*selective_window).squeeze()\n",
    "    p_exp = np.dstack([p_exp]*selective_window).squeeze()\n",
    "    p_exp = scaler.inverse_transform(p_exp)\n",
    "    p_exp = p_exp[0][0]\n",
    "\n",
    "    df_tail_inv = scaler.inverse_transform(df_tail)\n",
    "    imp_data = df_tail_inv[:, 0]\n",
    "    exp_data = df_tail_inv[:, 1]\n",
    "\n",
    "    avg_imp = np.mean(imp_data)\n",
    "    avg_exp = np.mean(exp_data)\n",
    "    \n",
    "    # percentage of change\n",
    "    p_imp = ((p_imp - avg_imp) / avg_imp) * 100\n",
    "    p_exp = ((p_exp - avg_exp) / avg_exp) * 100\n",
    "\n",
    "    return {\n",
    "            \"Import Change\" : p_imp,\n",
    "            \"Export Change\" : p_exp\n",
    "            }"
   ]
  },
  {
   "cell_type": "code",
   "execution_count": 10,
   "metadata": {},
   "outputs": [],
   "source": [
    "def inference_ts_on_company_stocks(            \n",
    "                                model_dict : dict,\n",
    "                                scalar_dict : dict,                 \n",
    "                                company_symbol : str,\n",
    "                                selective_window : int = 30 * 6,\n",
    "                                data_path : str = 'data/Stocks/csvs/{}.{}.csv',\n",
    "                                input_columns = [\n",
    "                                                \"Open (Rs.)\",\n",
    "                                                \"High (Rs.)\",\n",
    "                                                \"Low (Rs.)\",\n",
    "                                                \"Close (Rs.)\",\n",
    "                                                \"TradeVolume\",\n",
    "                                                \"ShareVolume\",\n",
    "                                                \"Turnover (Rs.)\"\n",
    "                                                ]\n",
    "                                ):\n",
    "    model = model_dict[company_symbol]\n",
    "    scalar_x, scalar_y = scalar_dict[company_symbol]\n",
    "\n",
    "    if os.path.exists(data_path.format(company_symbol, 'N0000')):\n",
    "        comp_ext = 'N0000'\n",
    "    elif os.path.exists(data_path.format(company_symbol, 'X0000')):\n",
    "        comp_ext = 'X0000'\n",
    "    else:\n",
    "        AssertionError(comp_ext is not None, \"Data Path Must Exists !!!\")\n",
    "\n",
    "    df = pd.read_csv(data_path.format(company_symbol, comp_ext))\n",
    "    df = df.dropna()\n",
    "    df = df.drop_duplicates()\n",
    "    df = df.reset_index(drop=True)\n",
    "\n",
    "    df['Trade Date'] = pd.to_datetime(df['Trade Date'], format='%m/%d/%y')\n",
    "    df = df.sort_values(by='Trade Date', ascending=True)    \n",
    "    df = df.tail(selective_window)\n",
    "    df = df.reset_index(drop=True)\n",
    "\n",
    "    df_x = df[input_columns]\n",
    "    x = df_x.values\n",
    "    x = scalar_x.transform(x)\n",
    "    x = x.reshape(1, x.shape[0], x.shape[1])\n",
    "\n",
    "    p = model.predict(x, verbose=0)\n",
    "    p = np.asarray(p).reshape(-1, 4)\n",
    "    p = scalar_y.inverse_transform(p)\n",
    "    p = np.abs(p)\n",
    "    \n",
    "    p_open = p[:, 0].squeeze()\n",
    "    p_close = p[:, 1].squeeze()\n",
    "    p_trade = p[:, 2].squeeze()\n",
    "    p_turnover = p[:, 3].squeeze()\n",
    "\n",
    "    y_open = df['Open (Rs.)'].values\n",
    "    y_close = df['Close (Rs.)'].values\n",
    "    y_trade = df['TradeVolume'].values\n",
    "    y_turnover = df['Turnover (Rs.)'].values\n",
    "\n",
    "    avg_p_open = np.mean(p_open)\n",
    "    avg_p_close = np.mean(p_close)\n",
    "    avg_p_trade = np.mean(p_trade)\n",
    "    avg_p_turnover = np.mean(p_turnover)\n",
    "\n",
    "    avg_y_open = np.mean(y_open)\n",
    "    avg_y_close = np.mean(y_close)\n",
    "    avg_y_trade = np.mean(y_trade)\n",
    "    avg_y_turnover = np.mean(y_turnover)\n",
    "\n",
    "    change_open_percent = ((avg_p_open - avg_y_open) / avg_y_open) * 100\n",
    "    change_close_percent = ((avg_p_close - avg_y_close) / avg_y_close) * 100\n",
    "    change_trade_percent = ((avg_p_trade - avg_y_trade) / avg_y_trade) * 100\n",
    "    change_turnover_percent = ((avg_p_turnover - avg_y_turnover) / avg_y_turnover) * 100\n",
    "\n",
    "    return {\n",
    "            'Change Open Price (%)': change_open_percent,\n",
    "            'Change Close Price (%)': change_close_percent,\n",
    "            'Change Trade Volume (%)': change_trade_percent,\n",
    "            'Change Turnover (%)': change_turnover_percent\n",
    "            }\n",
    "\n",
    "\n",
    "def inference_on_industry(\n",
    "                        industry,\n",
    "                        company_industry_file : str = 'data/Stocks/Company Industry groups V3.csv'\n",
    "                        ):\n",
    "    df = pd.read_csv(company_industry_file)\n",
    "    df = df[['Industry', 'Symbol']]\n",
    "    df['Symbol'] = df['Symbol'].apply(lambda x: x.replace('.N0000', '').replace('.X0000', ''))\n",
    "    df = df[df['Industry'] == industry]\n",
    "    company_list = df['Symbol'].values\n",
    "    \n",
    "    results = {}\n",
    "    results['Change Open Price (%)'] = []\n",
    "    results['Change Close Price (%)'] = []\n",
    "    results['Change Trade Volume (%)'] = []\n",
    "    results['Change Turnover (%)'] = []\n",
    "\n",
    "    for company in company_list:\n",
    "        try:\n",
    "            result = inference_ts_on_company_stocks(model_dict_stocks, scalar_dict_stocks, company)\n",
    "            results['Change Open Price (%)'].append(result['Change Open Price (%)'])\n",
    "            results['Change Close Price (%)'].append(result['Change Close Price (%)'])\n",
    "            results['Change Trade Volume (%)'].append(result['Change Trade Volume (%)'])\n",
    "            results['Change Turnover (%)'].append(result['Change Turnover (%)'])\n",
    "        except Exception as e:\n",
    "            pass\n",
    "            \n",
    "    df_results = pd.DataFrame(results)\n",
    "    df_results = df_results[df_results['Change Open Price (%)'] < 100]\n",
    "    avg_change_open = np.mean(df_results['Change Open Price (%)'])\n",
    "    avg_change_close = np.mean(df_results['Change Close Price (%)'])\n",
    "    avg_change_trade = np.mean(df_results['Change Trade Volume (%)'])\n",
    "    avg_change_turnover = np.mean(df_results['Change Turnover (%)'])\n",
    "\n",
    "    return {\n",
    "            'Change Open Price (%)': avg_change_open,\n",
    "            'Change Close Price (%)': avg_change_close,\n",
    "            'Change Trade Volume (%)': avg_change_trade,\n",
    "            'Change Turnover (%)': avg_change_turnover\n",
    "            }"
   ]
  },
  {
   "cell_type": "code",
   "execution_count": 11,
   "metadata": {},
   "outputs": [],
   "source": [
    "def predict_on_industry_annual(industry):\n",
    "    csv_dir = f\"data/AnnualReports/CSV/{industry}.csv\"\n",
    "    df = pd.read_csv(csv_dir)\n",
    "    df = df.sort_values(\n",
    "                        by='Year', \n",
    "                        ascending=True\n",
    "                        )\n",
    "    df = df.tail(n=3)\n",
    "    del df['Year']\n",
    "    \n",
    "    X = df.values.reshape(1, df.shape[0], df.shape[1])\n",
    "    P = model_annual.predict(X).squeeze()\n",
    "\n",
    "    avg = df.mean().values\n",
    "    # Calculate the percentage change\n",
    "    return {\n",
    "            \"Revenue\": (P[0] - avg[0]) / avg[0] * 100,\n",
    "            \"Net Profit\": (P[1] - avg[1]) / avg[1] * 100,\n",
    "            \"Gross Profit\": (P[2] - avg[2]) / avg[2] * 100,\n",
    "            \"Total Assets\": (P[3] - avg[3]) / avg[3] * 100,\n",
    "            \"Total Liabilities\": (P[4] - avg[4]) / avg[4] * 100,\n",
    "            \"Equity\": (P[5] - avg[5]) / avg[5] * 100\n",
    "            }\n",
    "    "
   ]
  },
  {
   "cell_type": "code",
   "execution_count": 12,
   "metadata": {},
   "outputs": [],
   "source": [
    "def inference_loan(sample_json):\n",
    "    sample = np.array([list(sample_json.values())])\n",
    "    sample = scalar_loan.transform(sample)\n",
    "    prediction = model_loan.predict(sample)[0]\n",
    "    return prediction"
   ]
  },
  {
   "cell_type": "code",
   "execution_count": 13,
   "metadata": {},
   "outputs": [],
   "source": [
    "def inference_pipeline(\n",
    "                        industry,\n",
    "                        cols = ['Change Open Price (%)', 'Change Close Price (%)',\n",
    "                                'Change Trade Volume (%)', 'Change Turnover (%)', 'Revenue',\n",
    "                                'Net Profit', 'Gross Profit', 'Total Assets', 'Total Liabilities',\n",
    "                                'Equity', 'Export Change', 'Import Change', 'Sentiment Score']\n",
    "                        ):\n",
    "    news_result = inference_news(industry)\n",
    "    impexp_result = predict_ts_on_industry_impexp(industry)\n",
    "    annual_result = predict_on_industry_annual(industry)\n",
    "    stocks_result = inference_on_industry(industry)\n",
    "\n",
    "    # add all these to one dictionary\n",
    "    final_result = {}\n",
    "    for key, value in news_result.items():\n",
    "        final_result[key] = value\n",
    "    for key, value in impexp_result.items():\n",
    "        final_result[key] = value\n",
    "    for key, value in annual_result.items():\n",
    "        final_result[key] = value\n",
    "    for key, value in stocks_result.items():\n",
    "        final_result[key] = value\n",
    "\n",
    "    df = pd.DataFrame(final_result, index=[0])\n",
    "    df = df[cols]\n",
    "    \n",
    "    pred = model_loan.predict(df.values)[0]\n",
    "    return pred"
   ]
  },
  {
   "cell_type": "code",
   "execution_count": 14,
   "metadata": {},
   "outputs": [
    {
     "data": {
      "text/plain": [
       "{'Sentiment Score': 0.2826086956521739}"
      ]
     },
     "execution_count": 14,
     "metadata": {},
     "output_type": "execute_result"
    }
   ],
   "source": [
    "inference_news(\"Transportation\")"
   ]
  },
  {
   "cell_type": "code",
   "execution_count": 15,
   "metadata": {},
   "outputs": [
    {
     "data": {
      "text/plain": [
       "{'Change Open Price (%)': -3.2997485203402044,\n",
       " 'Change Close Price (%)': -3.404401399720544,\n",
       " 'Change Trade Volume (%)': 94.62567914520316,\n",
       " 'Change Turnover (%)': 180.88922344430645}"
      ]
     },
     "execution_count": 15,
     "metadata": {},
     "output_type": "execute_result"
    }
   ],
   "source": [
    "inference_on_industry('Capital Goods')"
   ]
  },
  {
   "cell_type": "code",
   "execution_count": 21,
   "metadata": {},
   "outputs": [
    {
     "name": "stdout",
     "output_type": "stream",
     "text": [
      "\u001b[1m1/1\u001b[0m \u001b[32m━━━━━━━━━━━━━━━━━━━━\u001b[0m\u001b[37m\u001b[0m \u001b[1m0s\u001b[0m 176ms/step\n",
      "\u001b[1m1/1\u001b[0m \u001b[32m━━━━━━━━━━━━━━━━━━━━\u001b[0m\u001b[37m\u001b[0m \u001b[1m0s\u001b[0m 176ms/step\n"
     ]
    },
    {
     "data": {
      "text/plain": [
       "{'Import Change': 4.412105510458438, 'Export Change': 34.3273266991788}"
      ]
     },
     "execution_count": 21,
     "metadata": {},
     "output_type": "execute_result"
    }
   ],
   "source": [
    "predict_ts_on_industry_impexp('Consumer Goods')"
   ]
  },
  {
   "cell_type": "code",
   "execution_count": 17,
   "metadata": {},
   "outputs": [
    {
     "name": "stdout",
     "output_type": "stream",
     "text": [
      "\u001b[1m1/1\u001b[0m \u001b[32m━━━━━━━━━━━━━━━━━━━━\u001b[0m\u001b[37m\u001b[0m \u001b[1m0s\u001b[0m 45ms/step\n"
     ]
    },
    {
     "data": {
      "text/plain": [
       "{'Revenue': 96.72201956426865,\n",
       " 'Net Profit': -20.06557344066903,\n",
       " 'Gross Profit': 173.71189583480626,\n",
       " 'Total Assets': 65.5078922893918,\n",
       " 'Total Liabilities': 59.81966367740561,\n",
       " 'Equity': -55.484580939600114}"
      ]
     },
     "execution_count": 17,
     "metadata": {},
     "output_type": "execute_result"
    }
   ],
   "source": [
    "predict_on_industry_annual('Capital Goods')"
   ]
  },
  {
   "cell_type": "code",
   "execution_count": 18,
   "metadata": {},
   "outputs": [
    {
     "data": {
      "text/plain": [
       "0"
      ]
     },
     "execution_count": 18,
     "metadata": {},
     "output_type": "execute_result"
    }
   ],
   "source": [
    "inference_loan({\n",
    "                \"Change Open Price (%)\":-7.36,\n",
    "                \"Change Close Price (%)\":-9.52,\n",
    "                \"Change Trade Volume (%)\":-18.1,\n",
    "                \"Change Turnover (%)\":-16.11,\n",
    "                \"Revenue\":11.98,\n",
    "                \"Net Profit\":-38.74,\n",
    "                \"Gross Profit\":25.4,\n",
    "                \"Total Assets\":4.67,\n",
    "                \"Total Liabilities\":87.11,\n",
    "                \"Equity\":30.21,\n",
    "                \"Export Change\":-8.25,\n",
    "                \"Import Change\":-5.29,\n",
    "                \"Sentiment Score\":0.12\n",
    "                })"
   ]
  },
  {
   "cell_type": "code",
   "execution_count": 24,
   "metadata": {},
   "outputs": [
    {
     "data": {
      "application/vnd.jupyter.widget-view+json": {
       "model_id": "ade32ac5bd894a208107af222b2b0e1e",
       "version_major": 2,
       "version_minor": 0
      },
      "text/plain": [
       "Filter:   0%|          | 0/12771 [00:00<?, ? examples/s]"
      ]
     },
     "metadata": {},
     "output_type": "display_data"
    },
    {
     "name": "stdout",
     "output_type": "stream",
     "text": [
      "\u001b[1m1/1\u001b[0m \u001b[32m━━━━━━━━━━━━━━━━━━━━\u001b[0m\u001b[37m\u001b[0m \u001b[1m0s\u001b[0m 182ms/step\n",
      "\u001b[1m1/1\u001b[0m \u001b[32m━━━━━━━━━━━━━━━━━━━━\u001b[0m\u001b[37m\u001b[0m \u001b[1m0s\u001b[0m 184ms/step\n",
      "\u001b[1m1/1\u001b[0m \u001b[32m━━━━━━━━━━━━━━━━━━━━\u001b[0m\u001b[37m\u001b[0m \u001b[1m0s\u001b[0m 15ms/step\n"
     ]
    },
    {
     "data": {
      "text/plain": [
       "0"
      ]
     },
     "execution_count": 24,
     "metadata": {},
     "output_type": "execute_result"
    }
   ],
   "source": [
    "inference_pipeline('Agricultural Raw Materials')"
   ]
  }
 ],
 "metadata": {
  "kernelspec": {
   "display_name": "uni",
   "language": "python",
   "name": "python3"
  },
  "language_info": {
   "codemirror_mode": {
    "name": "ipython",
    "version": 3
   },
   "file_extension": ".py",
   "mimetype": "text/x-python",
   "name": "python",
   "nbconvert_exporter": "python",
   "pygments_lexer": "ipython3",
   "version": "3.10.14"
  }
 },
 "nbformat": 4,
 "nbformat_minor": 2
}
